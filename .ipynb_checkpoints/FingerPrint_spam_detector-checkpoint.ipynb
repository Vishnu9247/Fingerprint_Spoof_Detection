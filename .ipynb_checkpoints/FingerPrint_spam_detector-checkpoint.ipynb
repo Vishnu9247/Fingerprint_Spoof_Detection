{
 "cells": [
  {
   "cell_type": "code",
   "execution_count": 1,
   "id": "77ba2680",
   "metadata": {},
   "outputs": [],
   "source": [
    "import matplotlib.pyplot as plt\n",
    "from skimage.io import imread\n",
    "from skimage.feature import hog,local_binary_pattern\n",
    "import glob\n",
    "import numpy as np\n",
    "from sklearn import svm\n",
    "from skimage import feature\n",
    "from sklearn.metrics import classification_report\n",
    "from skimage.color import rgb2gray\n",
    "import os"
   ]
  },
  {
   "cell_type": "code",
   "execution_count": null,
   "id": "d2e087d6",
   "metadata": {},
   "outputs": [],
   "source": [
    "path_to_directory = 'C:/Users/VISHNU/OneDrive/Documents/GitHub/Fingerprint_Spoof_Detection'\n",
    "\n",
    "# Change the current working directory to the specified path\n",
    "os.chdir(path_to_directory)"
   ]
  },
  {
   "cell_type": "code",
   "execution_count": null,
   "id": "bd086ef1",
   "metadata": {},
   "outputs": [],
   "source": [
    "# import training data\n",
    "live_train = glob.glob('data/Training Biometrika Live/live/*.png') #positive\n",
    "spoof_train = glob.glob('data/Training Biometrika Spoof/Training Biometrika Spoof/spoof/*.png') # negative\n",
    "\n",
    "# import testing data\n",
    "live_test = glob.glob('data/Testing Biometrika Live/live/*.png') # positive\n",
    "spoof_test = glob.glob('data/Testing Biometrika Spoof/Testing Biometrika Spoof/spoof/*.png') # negative"
   ]
  },
  {
   "cell_type": "code",
   "execution_count": null,
   "id": "64b7a61e",
   "metadata": {},
   "outputs": [],
   "source": []
  },
  {
   "cell_type": "code",
   "execution_count": null,
   "id": "cd8fa928",
   "metadata": {},
   "outputs": [],
   "source": []
  },
  {
   "cell_type": "code",
   "execution_count": null,
   "id": "d0bbbc1b",
   "metadata": {},
   "outputs": [],
   "source": []
  },
  {
   "cell_type": "code",
   "execution_count": null,
   "id": "2f9dc2b9",
   "metadata": {},
   "outputs": [],
   "source": []
  },
  {
   "cell_type": "code",
   "execution_count": null,
   "id": "c6bb1265",
   "metadata": {},
   "outputs": [],
   "source": []
  },
  {
   "cell_type": "code",
   "execution_count": null,
   "id": "08236c69",
   "metadata": {},
   "outputs": [],
   "source": []
  },
  {
   "cell_type": "code",
   "execution_count": null,
   "id": "d6861ceb",
   "metadata": {},
   "outputs": [],
   "source": []
  },
  {
   "cell_type": "code",
   "execution_count": null,
   "id": "453fc0ec",
   "metadata": {},
   "outputs": [],
   "source": []
  }
 ],
 "metadata": {
  "kernelspec": {
   "display_name": "Python 3 (ipykernel)",
   "language": "python",
   "name": "python3"
  },
  "language_info": {
   "codemirror_mode": {
    "name": "ipython",
    "version": 3
   },
   "file_extension": ".py",
   "mimetype": "text/x-python",
   "name": "python",
   "nbconvert_exporter": "python",
   "pygments_lexer": "ipython3",
   "version": "3.11.5"
  }
 },
 "nbformat": 4,
 "nbformat_minor": 5
}
