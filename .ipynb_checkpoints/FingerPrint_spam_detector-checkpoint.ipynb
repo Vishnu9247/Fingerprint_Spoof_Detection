{
 "cells": [
  {
   "cell_type": "code",
   "execution_count": 108,
   "id": "77ba2680",
   "metadata": {},
   "outputs": [],
   "source": [
    "import matplotlib.pyplot as plt\n",
    "from skimage.io import imread\n",
    "from skimage.feature import hog,local_binary_pattern\n",
    "import glob\n",
    "import numpy as np\n",
    "import pandas as pd\n",
    "import seaborn as sns\n",
    "from sklearn import svm\n",
    "from skimage import feature\n",
    "from sklearn.metrics import classification_report\n",
    "from skimage.color import rgb2gray\n",
    "import os\n",
    "from sklearn.metrics import accuracy_score, precision_score, recall_score, f1_score\n",
    "from sklearn.model_selection import cross_validate\n",
    "\n",
    "\n",
    "from sklearn.tree import DecisionTreeClassifier\n",
    "from sklearn.svm import SVC\n",
    "from sklearn.linear_model import LogisticRegression\n",
    "from sklearn.ensemble import RandomForestClassifier\n",
    "from sklearn.naive_bayes import GaussianNB\n",
    "from sklearn.neighbors import KNeighborsClassifier\n",
    "\n",
    "from sklearn.model_selection import cross_val_score\n",
    "from sklearn.metrics import confusion_matrix"
   ]
  },
  {
   "cell_type": "code",
   "execution_count": 55,
   "id": "d2e087d6",
   "metadata": {},
   "outputs": [],
   "source": [
    "path_to_directory = 'C:/Users/VISHNU/OneDrive/Documents/GitHub/Fingerprint_Spoof_Detection'\n",
    "\n",
    "# Change the current working directory to the specified path\n",
    "os.chdir(path_to_directory)"
   ]
  },
  {
   "cell_type": "code",
   "execution_count": 56,
   "id": "dad35549",
   "metadata": {},
   "outputs": [],
   "source": [
    "# import training data\n",
    "live_train = glob.glob('data/Training Biometrika Live/live/*.png') #positive\n",
    "spoof_train = glob.glob('data/Training Biometrika Spoof/Training Biometrika Spoof/spoof/*.png') # negative\n",
    "\n",
    "# import testing data\n",
    "live_test = glob.glob('data/Testing Biometrika Live/live/*.png') # positive\n",
    "spoof_test = glob.glob('data/Testing Biometrika Spoof/Testing Biometrika Spoof/spoof/*.png') # negative"
   ]
  },
  {
   "cell_type": "code",
   "execution_count": 57,
   "id": "f499894e",
   "metadata": {},
   "outputs": [
    {
     "name": "stdout",
     "output_type": "stream",
     "text": [
      "207\n"
     ]
    }
   ],
   "source": [
    "print(len(spoof_train))"
   ]
  },
  {
   "cell_type": "code",
   "execution_count": 58,
   "id": "a66dfffa",
   "metadata": {},
   "outputs": [],
   "source": [
    "# initialize empty lists to append data\n",
    "live_train_images = []\n",
    "spoof_train_images = []\n",
    "live_test_images = []\n",
    "spoof_test_images = []\n",
    "\n",
    "# read images from given path and append to the variavles\n",
    "for path in live_train: live_train_images.append(imread(path))\n",
    "for path in spoof_train: spoof_train_images.append(imread(path))\n",
    "for path in live_test: live_test_images.append(imread(path))\n",
    "for path in spoof_test: spoof_test_images.append(imread(path))"
   ]
  },
  {
   "cell_type": "code",
   "execution_count": 59,
   "id": "5bb7bbcb",
   "metadata": {},
   "outputs": [],
   "source": [
    "# convert images to np arrays\n",
    "live_train_images, spoof_train_images = np.asarray(live_train_images), np.asarray(spoof_train_images)\n",
    "live_test_images, spoof_test_images = np.asarray(live_test_images), np.asarray(spoof_test_images)"
   ]
  },
  {
   "cell_type": "code",
   "execution_count": 60,
   "id": "cb8cf310",
   "metadata": {},
   "outputs": [
    {
     "name": "stderr",
     "output_type": "stream",
     "text": [
      "C:\\Users\\VISHNU\\anaconda3\\Lib\\site-packages\\skimage\\feature\\texture.py:353: UserWarning: Applying `local_binary_pattern` to floating-point images may give unexpected results when small numerical differences between adjacent pixels are present. It is recommended to use this function with images of integer dtype.\n",
      "  warnings.warn(\n"
     ]
    }
   ],
   "source": [
    "# change the type of feature you want to use here\n",
    "feature_type = \"lbp\" #hog or lbp\n",
    "\n",
    "# initialize empty lists to append features\n",
    "live_train_features, spoof_train_features = [], []\n",
    "live_test_features, spoof_test_features = [], []\n",
    "\n",
    "if(feature_type == \"hog\"):\n",
    "    \n",
    "    # calculate and store hog features of training data\n",
    "    for live_img, spoof_img in zip(live_train_images, spoof_train_images):\n",
    "        live_train_features.append(hog(live_img, feature_vector = True))\n",
    "        spoof_train_features.append(hog(spoof_img, feature_vector = True))\n",
    "    \n",
    "    # calculate and store hog features of testing data\n",
    "    for live_img, spoof_img in zip(live_test_images, spoof_test_images):\n",
    "        live_test_features.append(hog(live_img, feature_vector = True))\n",
    "        spoof_test_features.append(hog(spoof_img, feature_vector = True))\n",
    "        \n",
    "if(feature_type == \"lbp\"):\n",
    "\n",
    "# parameters copied from scikit docs of lbp\n",
    "    METHOD = 'uniform'\n",
    "    R = 3\n",
    "    P = 8 * R\n",
    "\n",
    "    # calculate and store lbp features of training data\n",
    "    for live_img, spoof_img in zip(live_train_images, spoof_train_images):\n",
    "        live_img = rgb2gray(live_img)\n",
    "        spoof_img = rgb2gray(spoof_img)\n",
    "        live_train_features.append(local_binary_pattern(live_img, P, R, METHOD).flatten())\n",
    "        spoof_train_features.append(local_binary_pattern(spoof_img, P, R, METHOD).flatten())\n",
    "    \n",
    "    # calculate and store lbp features of training data   \n",
    "    for live_img, spoof_img in zip(live_test_images, spoof_test_images):\n",
    "        # convert rgb to gray\n",
    "        live_img = rgb2gray(live_img)\n",
    "        # convert rgb to gray\n",
    "        spoof_img = rgb2gray(spoof_img)\n",
    "        live_test_features.append(local_binary_pattern(live_img, P, R, METHOD).flatten())\n",
    "        spoof_test_features.append(local_binary_pattern(spoof_img, P, R, METHOD).flatten())"
   ]
  },
  {
   "cell_type": "code",
   "execution_count": 61,
   "id": "282d9a30",
   "metadata": {},
   "outputs": [],
   "source": [
    "# define labels 1 for live and 0 for spoof\n",
    "# i.e. create a list of 200 1's and 200 0's \n",
    "labels_train = [[1]]*len(live_train_features) + [[0]]*len(spoof_train_features)\n",
    "\n",
    "# merge both positive and negative training data\n",
    "full_train = live_train_features + spoof_train_features\n",
    "\n",
    "# assign labels for all test data, 1 for positive, 0 for negative\n",
    "labels_test = [[1]]*len(live_test_features) + [[0]]*len(spoof_test_features)\n",
    "\n",
    "# merge both positive and negative training data\n",
    "full_test = live_test_features + spoof_test_features\n"
   ]
  },
  {
   "cell_type": "code",
   "execution_count": 62,
   "id": "69c923a2",
   "metadata": {},
   "outputs": [
    {
     "data": {
      "text/plain": [
       "400"
      ]
     },
     "execution_count": 62,
     "metadata": {},
     "output_type": "execute_result"
    }
   ],
   "source": [
    "len(labels_train)"
   ]
  },
  {
   "cell_type": "code",
   "execution_count": 63,
   "id": "e2d76413",
   "metadata": {},
   "outputs": [],
   "source": [
    "features_train = np.array(full_train)\n",
    "features_test = np.array(full_test)\n",
    "\n",
    "# stack features and labels together\n",
    "data_frame_train = np.hstack((features_train,labels_train))\n",
    "\n",
    "# shuffle train data\n",
    "np.random.shuffle(data_frame_train)"
   ]
  },
  {
   "cell_type": "code",
   "execution_count": 64,
   "id": "a214c7fe",
   "metadata": {},
   "outputs": [],
   "source": [
    "# split features and labels of train data\n",
    "x_train = data_frame_train[:len(data_frame_train),:-1]\n",
    "y_train = data_frame_train[:len(data_frame_train),-1]\n",
    "\n",
    "# ready test data and labels\n",
    "x_test = features_test\n",
    "y_test = labels_test"
   ]
  },
  {
   "cell_type": "code",
   "execution_count": 65,
   "id": "e7b51d96",
   "metadata": {},
   "outputs": [
    {
     "name": "stdout",
     "output_type": "stream",
     "text": [
      "              precision    recall  f1-score   support\n",
      "\n",
      "           0       0.61      0.85      0.71       200\n",
      "           1       0.75      0.46      0.57       200\n",
      "\n",
      "    accuracy                           0.66       400\n",
      "   macro avg       0.68      0.66      0.64       400\n",
      "weighted avg       0.68      0.66      0.64       400\n",
      "\n"
     ]
    }
   ],
   "source": [
    "dt = DecisionTreeClassifier()\n",
    "\n",
    "dt.fit(x_train, y_train)\n",
    "\n",
    "# Make predictions on the testing data\n",
    "y_dt = dt.predict(x_test)\n",
    "\n",
    "print(classification_report(y_test, y_dt))"
   ]
  },
  {
   "cell_type": "code",
   "execution_count": 66,
   "id": "b6c36b65",
   "metadata": {},
   "outputs": [
    {
     "name": "stdout",
     "output_type": "stream",
     "text": [
      "              precision    recall  f1-score   support\n",
      "\n",
      "           0       0.93      0.98      0.95       200\n",
      "           1       0.98      0.93      0.95       200\n",
      "\n",
      "    accuracy                           0.95       400\n",
      "   macro avg       0.95      0.95      0.95       400\n",
      "weighted avg       0.95      0.95      0.95       400\n",
      "\n"
     ]
    }
   ],
   "source": [
    "svm_classifier = SVC(kernel='linear')\n",
    "\n",
    "# Train the classifier on the training data\n",
    "svm_classifier.fit(x_train, y_train)\n",
    "\n",
    "# Make predictions on the testing data\n",
    "y_svm = svm_classifier.predict(x_test)\n",
    "\n",
    "print(classification_report(y_test, y_svm))"
   ]
  },
  {
   "cell_type": "code",
   "execution_count": 67,
   "id": "ba177352",
   "metadata": {},
   "outputs": [
    {
     "name": "stdout",
     "output_type": "stream",
     "text": [
      "              precision    recall  f1-score   support\n",
      "\n",
      "           0       0.92      0.98      0.95       200\n",
      "           1       0.98      0.92      0.95       200\n",
      "\n",
      "    accuracy                           0.95       400\n",
      "   macro avg       0.95      0.95      0.95       400\n",
      "weighted avg       0.95      0.95      0.95       400\n",
      "\n"
     ]
    }
   ],
   "source": [
    "logistic_regression = LogisticRegression(max_iter=1000)\n",
    "\n",
    "# Train the classifier on the training data\n",
    "logistic_regression.fit(x_train, y_train)\n",
    "\n",
    "# Make predictions on the testing data\n",
    "y_lr = logistic_regression.predict(x_test)\n",
    "\n",
    "print(classification_report(y_test, y_lr))"
   ]
  },
  {
   "cell_type": "code",
   "execution_count": 68,
   "id": "4486435c",
   "metadata": {},
   "outputs": [
    {
     "name": "stdout",
     "output_type": "stream",
     "text": [
      "              precision    recall  f1-score   support\n",
      "\n",
      "           0       0.93      0.85      0.89       200\n",
      "           1       0.87      0.94      0.90       200\n",
      "\n",
      "    accuracy                           0.90       400\n",
      "   macro avg       0.90      0.90      0.89       400\n",
      "weighted avg       0.90      0.90      0.89       400\n",
      "\n"
     ]
    }
   ],
   "source": [
    "random_forest_classifier = RandomForestClassifier(n_estimators=100, random_state=42)\n",
    "\n",
    "# Train the classifier on the training data\n",
    "random_forest_classifier.fit(x_train, y_train)\n",
    "\n",
    "# Make predictions on the testing data\n",
    "y_rf = random_forest_classifier.predict(x_test)\n",
    "\n",
    "print(classification_report(y_test, y_rf))"
   ]
  },
  {
   "cell_type": "code",
   "execution_count": 69,
   "id": "292ecd7d",
   "metadata": {},
   "outputs": [
    {
     "name": "stdout",
     "output_type": "stream",
     "text": [
      "              precision    recall  f1-score   support\n",
      "\n",
      "           0       0.00      0.00      0.00       200\n",
      "           1       0.49      0.98      0.66       200\n",
      "\n",
      "    accuracy                           0.49       400\n",
      "   macro avg       0.25      0.49      0.33       400\n",
      "weighted avg       0.25      0.49      0.33       400\n",
      "\n"
     ]
    }
   ],
   "source": [
    "naive_bayes_classifier = GaussianNB()\n",
    "\n",
    "# Train the classifier on the training data\n",
    "naive_bayes_classifier.fit(x_train, y_train)\n",
    "\n",
    "# Make predictions on the testing data\n",
    "y_nb = naive_bayes_classifier.predict(x_test)\n",
    "\n",
    "print(classification_report(y_test, y_nb))"
   ]
  },
  {
   "cell_type": "code",
   "execution_count": 70,
   "id": "ff599d73",
   "metadata": {},
   "outputs": [
    {
     "name": "stdout",
     "output_type": "stream",
     "text": [
      "              precision    recall  f1-score   support\n",
      "\n",
      "           0       1.00      0.14      0.25       200\n",
      "           1       0.54      1.00      0.70       200\n",
      "\n",
      "    accuracy                           0.57       400\n",
      "   macro avg       0.77      0.57      0.48       400\n",
      "weighted avg       0.77      0.57      0.48       400\n",
      "\n"
     ]
    }
   ],
   "source": [
    "knn_classifier = KNeighborsClassifier(n_neighbors=5)\n",
    "\n",
    "# Train the classifier on the training data\n",
    "knn_classifier.fit(x_train, y_train)\n",
    "\n",
    "# Make predictions on the testing data\n",
    "y_knn = knn_classifier.predict(x_test)\n",
    "\n",
    "print(classification_report(y_test, y_knn))"
   ]
  },
  {
   "cell_type": "code",
   "execution_count": 91,
   "id": "69240015",
   "metadata": {},
   "outputs": [
    {
     "name": "stdout",
     "output_type": "stream",
     "text": [
      "{0: {'Model': 'Decision Tree', 'Accuracy': 0.9949999999999999, 'Precision': 1.0, 'Recall': 0.99, 'F1 Score': 0.9949367088607595}}\n"
     ]
    }
   ],
   "source": [
    "results = {}\n",
    "scores_dt = cross_validate(dt, x_test, y_test, cv = 5, scoring = ['accuracy', 'precision', 'recall', 'f1'])\n",
    "\n",
    "results[0] = {\n",
    "        'Model': 'Decision Tree',\n",
    "        'Accuracy': scores_dt['test_accuracy'].mean(),\n",
    "        'Precision': scores_dt['test_precision'].mean(),\n",
    "        'Recall': scores_dt['test_recall'].mean(),\n",
    "        'F1 Score': scores_dt['test_f1'].mean()\n",
    "    }\n",
    "\n",
    "print(results)\n"
   ]
  },
  {
   "cell_type": "code",
   "execution_count": 92,
   "id": "6f418fd6",
   "metadata": {},
   "outputs": [
    {
     "name": "stderr",
     "output_type": "stream",
     "text": [
      "C:\\Users\\VISHNU\\anaconda3\\Lib\\site-packages\\sklearn\\utils\\validation.py:1184: DataConversionWarning: A column-vector y was passed when a 1d array was expected. Please change the shape of y to (n_samples, ), for example using ravel().\n",
      "  y = column_or_1d(y, warn=True)\n",
      "C:\\Users\\VISHNU\\anaconda3\\Lib\\site-packages\\sklearn\\utils\\validation.py:1184: DataConversionWarning: A column-vector y was passed when a 1d array was expected. Please change the shape of y to (n_samples, ), for example using ravel().\n",
      "  y = column_or_1d(y, warn=True)\n",
      "C:\\Users\\VISHNU\\anaconda3\\Lib\\site-packages\\sklearn\\utils\\validation.py:1184: DataConversionWarning: A column-vector y was passed when a 1d array was expected. Please change the shape of y to (n_samples, ), for example using ravel().\n",
      "  y = column_or_1d(y, warn=True)\n",
      "C:\\Users\\VISHNU\\anaconda3\\Lib\\site-packages\\sklearn\\utils\\validation.py:1184: DataConversionWarning: A column-vector y was passed when a 1d array was expected. Please change the shape of y to (n_samples, ), for example using ravel().\n",
      "  y = column_or_1d(y, warn=True)\n",
      "C:\\Users\\VISHNU\\anaconda3\\Lib\\site-packages\\sklearn\\utils\\validation.py:1184: DataConversionWarning: A column-vector y was passed when a 1d array was expected. Please change the shape of y to (n_samples, ), for example using ravel().\n",
      "  y = column_or_1d(y, warn=True)\n"
     ]
    },
    {
     "name": "stdout",
     "output_type": "stream",
     "text": [
      "{0: {'Model': 'Decision Tree', 'Accuracy': 0.9949999999999999, 'Precision': 1.0, 'Recall': 0.99, 'F1 Score': 0.9949367088607595}, 1: {'Model': 'SVM', 'Accuracy': 0.99, 'Precision': 0.9855981416957027, 'Recall': 0.9949999999999999, 'F1 Score': 0.9901211698474228}}\n"
     ]
    }
   ],
   "source": [
    "scores_svm = cross_validate(svm_classifier, x_test, y_test, cv=5, scoring= ['accuracy', 'precision', 'recall', 'f1'])\n",
    "\n",
    "results[1] = {\n",
    "        'Model': 'SVM',\n",
    "        'Accuracy': scores_svm['test_accuracy'].mean(),\n",
    "        'Precision': scores_svm['test_precision'].mean(),\n",
    "        'Recall': scores_svm['test_recall'].mean(),\n",
    "        'F1 Score': scores_svm['test_f1'].mean()\n",
    "    }\n",
    "\n",
    "print(results)"
   ]
  },
  {
   "cell_type": "code",
   "execution_count": 93,
   "id": "35fa4569",
   "metadata": {},
   "outputs": [
    {
     "name": "stderr",
     "output_type": "stream",
     "text": [
      "C:\\Users\\VISHNU\\anaconda3\\Lib\\site-packages\\sklearn\\utils\\validation.py:1184: DataConversionWarning: A column-vector y was passed when a 1d array was expected. Please change the shape of y to (n_samples, ), for example using ravel().\n",
      "  y = column_or_1d(y, warn=True)\n",
      "C:\\Users\\VISHNU\\anaconda3\\Lib\\site-packages\\sklearn\\utils\\validation.py:1184: DataConversionWarning: A column-vector y was passed when a 1d array was expected. Please change the shape of y to (n_samples, ), for example using ravel().\n",
      "  y = column_or_1d(y, warn=True)\n",
      "C:\\Users\\VISHNU\\anaconda3\\Lib\\site-packages\\sklearn\\utils\\validation.py:1184: DataConversionWarning: A column-vector y was passed when a 1d array was expected. Please change the shape of y to (n_samples, ), for example using ravel().\n",
      "  y = column_or_1d(y, warn=True)\n",
      "C:\\Users\\VISHNU\\anaconda3\\Lib\\site-packages\\sklearn\\utils\\validation.py:1184: DataConversionWarning: A column-vector y was passed when a 1d array was expected. Please change the shape of y to (n_samples, ), for example using ravel().\n",
      "  y = column_or_1d(y, warn=True)\n",
      "C:\\Users\\VISHNU\\anaconda3\\Lib\\site-packages\\sklearn\\utils\\validation.py:1184: DataConversionWarning: A column-vector y was passed when a 1d array was expected. Please change the shape of y to (n_samples, ), for example using ravel().\n",
      "  y = column_or_1d(y, warn=True)\n"
     ]
    },
    {
     "name": "stdout",
     "output_type": "stream",
     "text": [
      "{0: {'Model': 'Decision Tree', 'Accuracy': 0.9949999999999999, 'Precision': 1.0, 'Recall': 0.99, 'F1 Score': 0.9949367088607595}, 1: {'Model': 'SVM', 'Accuracy': 0.99, 'Precision': 0.9855981416957027, 'Recall': 0.9949999999999999, 'F1 Score': 0.9901211698474228}, 2: {'Model': 'Logistic Regression', 'Accuracy': 0.99, 'Precision': 0.9855981416957027, 'Recall': 0.9949999999999999, 'F1 Score': 0.9901211698474228}}\n"
     ]
    }
   ],
   "source": [
    "scores_lr = cross_validate(logistic_regression, x_test, y_test, cv=5, scoring = ['accuracy', 'precision', 'recall', 'f1'])\n",
    "\n",
    "results[2] = {\n",
    "        'Model': 'Logistic Regression',\n",
    "        'Accuracy': scores_lr['test_accuracy'].mean(),\n",
    "        'Precision': scores_lr['test_precision'].mean(),\n",
    "        'Recall': scores_lr['test_recall'].mean(),\n",
    "        'F1 Score': scores_lr['test_f1'].mean()\n",
    "    }\n",
    "\n",
    "print(results)"
   ]
  },
  {
   "cell_type": "code",
   "execution_count": 94,
   "id": "1f02a893",
   "metadata": {},
   "outputs": [
    {
     "name": "stderr",
     "output_type": "stream",
     "text": [
      "C:\\Users\\VISHNU\\anaconda3\\Lib\\site-packages\\sklearn\\base.py:1151: DataConversionWarning: A column-vector y was passed when a 1d array was expected. Please change the shape of y to (n_samples,), for example using ravel().\n",
      "  return fit_method(estimator, *args, **kwargs)\n",
      "C:\\Users\\VISHNU\\anaconda3\\Lib\\site-packages\\sklearn\\base.py:1151: DataConversionWarning: A column-vector y was passed when a 1d array was expected. Please change the shape of y to (n_samples,), for example using ravel().\n",
      "  return fit_method(estimator, *args, **kwargs)\n",
      "C:\\Users\\VISHNU\\anaconda3\\Lib\\site-packages\\sklearn\\base.py:1151: DataConversionWarning: A column-vector y was passed when a 1d array was expected. Please change the shape of y to (n_samples,), for example using ravel().\n",
      "  return fit_method(estimator, *args, **kwargs)\n",
      "C:\\Users\\VISHNU\\anaconda3\\Lib\\site-packages\\sklearn\\base.py:1151: DataConversionWarning: A column-vector y was passed when a 1d array was expected. Please change the shape of y to (n_samples,), for example using ravel().\n",
      "  return fit_method(estimator, *args, **kwargs)\n",
      "C:\\Users\\VISHNU\\anaconda3\\Lib\\site-packages\\sklearn\\base.py:1151: DataConversionWarning: A column-vector y was passed when a 1d array was expected. Please change the shape of y to (n_samples,), for example using ravel().\n",
      "  return fit_method(estimator, *args, **kwargs)\n"
     ]
    },
    {
     "name": "stdout",
     "output_type": "stream",
     "text": [
      "{0: {'Model': 'Decision Tree', 'Accuracy': 0.9949999999999999, 'Precision': 1.0, 'Recall': 0.99, 'F1 Score': 0.9949367088607595}, 1: {'Model': 'SVM', 'Accuracy': 0.99, 'Precision': 0.9855981416957027, 'Recall': 0.9949999999999999, 'F1 Score': 0.9901211698474228}, 2: {'Model': 'Logistic Regression', 'Accuracy': 0.99, 'Precision': 0.9855981416957027, 'Recall': 0.9949999999999999, 'F1 Score': 0.9901211698474228}, 3: {'Model': 'Random Forest', 'Accuracy': 1.0, 'Precision': 1.0, 'Recall': 1.0, 'F1 Score': 1.0}}\n"
     ]
    }
   ],
   "source": [
    "scores_rf = cross_validate(random_forest_classifier, x_test, y_test, cv = 5, scoring = ['accuracy', 'precision', 'recall', 'f1'])\n",
    "\n",
    "results[3] = {\n",
    "        'Model': 'Random Forest',\n",
    "        'Accuracy': scores_rf['test_accuracy'].mean(),\n",
    "        'Precision': scores_rf['test_precision'].mean(),\n",
    "        'Recall': scores_rf['test_recall'].mean(),\n",
    "        'F1 Score': scores_rf['test_f1'].mean()\n",
    "    }\n",
    "\n",
    "print(results)"
   ]
  },
  {
   "cell_type": "code",
   "execution_count": 95,
   "id": "384676c5",
   "metadata": {},
   "outputs": [
    {
     "name": "stderr",
     "output_type": "stream",
     "text": [
      "C:\\Users\\VISHNU\\anaconda3\\Lib\\site-packages\\sklearn\\utils\\validation.py:1184: DataConversionWarning: A column-vector y was passed when a 1d array was expected. Please change the shape of y to (n_samples, ), for example using ravel().\n",
      "  y = column_or_1d(y, warn=True)\n",
      "C:\\Users\\VISHNU\\anaconda3\\Lib\\site-packages\\sklearn\\utils\\validation.py:1184: DataConversionWarning: A column-vector y was passed when a 1d array was expected. Please change the shape of y to (n_samples, ), for example using ravel().\n",
      "  y = column_or_1d(y, warn=True)\n",
      "C:\\Users\\VISHNU\\anaconda3\\Lib\\site-packages\\sklearn\\utils\\validation.py:1184: DataConversionWarning: A column-vector y was passed when a 1d array was expected. Please change the shape of y to (n_samples, ), for example using ravel().\n",
      "  y = column_or_1d(y, warn=True)\n",
      "C:\\Users\\VISHNU\\anaconda3\\Lib\\site-packages\\sklearn\\utils\\validation.py:1184: DataConversionWarning: A column-vector y was passed when a 1d array was expected. Please change the shape of y to (n_samples, ), for example using ravel().\n",
      "  y = column_or_1d(y, warn=True)\n",
      "C:\\Users\\VISHNU\\anaconda3\\Lib\\site-packages\\sklearn\\utils\\validation.py:1184: DataConversionWarning: A column-vector y was passed when a 1d array was expected. Please change the shape of y to (n_samples, ), for example using ravel().\n",
      "  y = column_or_1d(y, warn=True)\n"
     ]
    },
    {
     "name": "stdout",
     "output_type": "stream",
     "text": [
      "{0: {'Model': 'Decision Tree', 'Accuracy': 0.9949999999999999, 'Precision': 1.0, 'Recall': 0.99, 'F1 Score': 0.9949367088607595}, 1: {'Model': 'SVM', 'Accuracy': 0.99, 'Precision': 0.9855981416957027, 'Recall': 0.9949999999999999, 'F1 Score': 0.9901211698474228}, 2: {'Model': 'Logistic Regression', 'Accuracy': 0.99, 'Precision': 0.9855981416957027, 'Recall': 0.9949999999999999, 'F1 Score': 0.9901211698474228}, 3: {'Model': 'Random Forest', 'Accuracy': 1.0, 'Precision': 1.0, 'Recall': 1.0, 'F1 Score': 1.0}, 4: {'Model': 'Naive Bayes', 'Accuracy': 0.93, 'Precision': 0.8791205433037623, 'Recall': 1.0, 'F1 Score': 0.9351658958070749}}\n"
     ]
    }
   ],
   "source": [
    "scores_nb = cross_validate(naive_bayes_classifier, x_test, y_test, cv=5, scoring = ['accuracy', 'precision', 'recall', 'f1'])\n",
    "\n",
    "results[4] = {\n",
    "        'Model': 'Naive Bayes',\n",
    "        'Accuracy': scores_nb['test_accuracy'].mean(),\n",
    "        'Precision': scores_nb['test_precision'].mean(),\n",
    "        'Recall': scores_nb['test_recall'].mean(),\n",
    "        'F1 Score': scores_nb['test_f1'].mean()\n",
    "    }\n",
    "\n",
    "print(results)"
   ]
  },
  {
   "cell_type": "code",
   "execution_count": 96,
   "id": "5ff5adef",
   "metadata": {},
   "outputs": [
    {
     "name": "stderr",
     "output_type": "stream",
     "text": [
      "C:\\Users\\VISHNU\\anaconda3\\Lib\\site-packages\\sklearn\\neighbors\\_classification.py:228: DataConversionWarning: A column-vector y was passed when a 1d array was expected. Please change the shape of y to (n_samples,), for example using ravel().\n",
      "  return self._fit(X, y)\n",
      "C:\\Users\\VISHNU\\anaconda3\\Lib\\site-packages\\sklearn\\neighbors\\_classification.py:228: DataConversionWarning: A column-vector y was passed when a 1d array was expected. Please change the shape of y to (n_samples,), for example using ravel().\n",
      "  return self._fit(X, y)\n",
      "C:\\Users\\VISHNU\\anaconda3\\Lib\\site-packages\\sklearn\\neighbors\\_classification.py:228: DataConversionWarning: A column-vector y was passed when a 1d array was expected. Please change the shape of y to (n_samples,), for example using ravel().\n",
      "  return self._fit(X, y)\n",
      "C:\\Users\\VISHNU\\anaconda3\\Lib\\site-packages\\sklearn\\neighbors\\_classification.py:228: DataConversionWarning: A column-vector y was passed when a 1d array was expected. Please change the shape of y to (n_samples,), for example using ravel().\n",
      "  return self._fit(X, y)\n",
      "C:\\Users\\VISHNU\\anaconda3\\Lib\\site-packages\\sklearn\\neighbors\\_classification.py:228: DataConversionWarning: A column-vector y was passed when a 1d array was expected. Please change the shape of y to (n_samples,), for example using ravel().\n",
      "  return self._fit(X, y)\n"
     ]
    },
    {
     "name": "stdout",
     "output_type": "stream",
     "text": [
      "{0: {'Model': 'Decision Tree', 'Accuracy': 0.9949999999999999, 'Precision': 1.0, 'Recall': 0.99, 'F1 Score': 0.9949367088607595}, 1: {'Model': 'SVM', 'Accuracy': 0.99, 'Precision': 0.9855981416957027, 'Recall': 0.9949999999999999, 'F1 Score': 0.9901211698474228}, 2: {'Model': 'Logistic Regression', 'Accuracy': 0.99, 'Precision': 0.9855981416957027, 'Recall': 0.9949999999999999, 'F1 Score': 0.9901211698474228}, 3: {'Model': 'Random Forest', 'Accuracy': 1.0, 'Precision': 1.0, 'Recall': 1.0, 'F1 Score': 1.0}, 4: {'Model': 'Naive Bayes', 'Accuracy': 0.93, 'Precision': 0.8791205433037623, 'Recall': 1.0, 'F1 Score': 0.9351658958070749}, 5: {'Model': 'KNN', 'Accuracy': 0.9175000000000001, 'Precision': 0.9888888888888889, 'Recall': 0.845, 'F1 Score': 0.9094952812831035}}\n"
     ]
    }
   ],
   "source": [
    "scores_knn = cross_validate(knn_classifier, x_test, y_test, cv = 5, scoring = ['accuracy', 'precision', 'recall', 'f1'])\n",
    "\n",
    "results[5] = {\n",
    "        'Model': 'KNN',\n",
    "        'Accuracy': scores_knn['test_accuracy'].mean(),\n",
    "        'Precision': scores_knn['test_precision'].mean(),\n",
    "        'Recall': scores_knn['test_recall'].mean(),\n",
    "        'F1 Score': scores_knn['test_f1'].mean()\n",
    "    }\n",
    "\n",
    "print(results)"
   ]
  },
  {
   "cell_type": "code",
   "execution_count": 105,
   "id": "c3c9cb56",
   "metadata": {},
   "outputs": [],
   "source": [
    "results_df = pd.DataFrame(results)\n",
    "results_df = results_df.T"
   ]
  },
  {
   "cell_type": "code",
   "execution_count": 106,
   "id": "c108acf6",
   "metadata": {},
   "outputs": [
    {
     "data": {
      "text/html": [
       "<div>\n",
       "<style scoped>\n",
       "    .dataframe tbody tr th:only-of-type {\n",
       "        vertical-align: middle;\n",
       "    }\n",
       "\n",
       "    .dataframe tbody tr th {\n",
       "        vertical-align: top;\n",
       "    }\n",
       "\n",
       "    .dataframe thead th {\n",
       "        text-align: right;\n",
       "    }\n",
       "</style>\n",
       "<table border=\"1\" class=\"dataframe\">\n",
       "  <thead>\n",
       "    <tr style=\"text-align: right;\">\n",
       "      <th></th>\n",
       "      <th>Model</th>\n",
       "      <th>Accuracy</th>\n",
       "      <th>Precision</th>\n",
       "      <th>Recall</th>\n",
       "      <th>F1 Score</th>\n",
       "    </tr>\n",
       "  </thead>\n",
       "  <tbody>\n",
       "    <tr>\n",
       "      <th>0</th>\n",
       "      <td>Decision Tree</td>\n",
       "      <td>0.995</td>\n",
       "      <td>1.0</td>\n",
       "      <td>0.99</td>\n",
       "      <td>0.994937</td>\n",
       "    </tr>\n",
       "    <tr>\n",
       "      <th>1</th>\n",
       "      <td>SVM</td>\n",
       "      <td>0.99</td>\n",
       "      <td>0.985598</td>\n",
       "      <td>0.995</td>\n",
       "      <td>0.990121</td>\n",
       "    </tr>\n",
       "    <tr>\n",
       "      <th>2</th>\n",
       "      <td>Logistic Regression</td>\n",
       "      <td>0.99</td>\n",
       "      <td>0.985598</td>\n",
       "      <td>0.995</td>\n",
       "      <td>0.990121</td>\n",
       "    </tr>\n",
       "    <tr>\n",
       "      <th>3</th>\n",
       "      <td>Random Forest</td>\n",
       "      <td>1.0</td>\n",
       "      <td>1.0</td>\n",
       "      <td>1.0</td>\n",
       "      <td>1.0</td>\n",
       "    </tr>\n",
       "    <tr>\n",
       "      <th>4</th>\n",
       "      <td>Naive Bayes</td>\n",
       "      <td>0.93</td>\n",
       "      <td>0.879121</td>\n",
       "      <td>1.0</td>\n",
       "      <td>0.935166</td>\n",
       "    </tr>\n",
       "    <tr>\n",
       "      <th>5</th>\n",
       "      <td>KNN</td>\n",
       "      <td>0.9175</td>\n",
       "      <td>0.988889</td>\n",
       "      <td>0.845</td>\n",
       "      <td>0.909495</td>\n",
       "    </tr>\n",
       "  </tbody>\n",
       "</table>\n",
       "</div>"
      ],
      "text/plain": [
       "                 Model Accuracy Precision Recall  F1 Score\n",
       "0        Decision Tree    0.995       1.0   0.99  0.994937\n",
       "1                  SVM     0.99  0.985598  0.995  0.990121\n",
       "2  Logistic Regression     0.99  0.985598  0.995  0.990121\n",
       "3        Random Forest      1.0       1.0    1.0       1.0\n",
       "4          Naive Bayes     0.93  0.879121    1.0  0.935166\n",
       "5                  KNN   0.9175  0.988889  0.845  0.909495"
      ]
     },
     "execution_count": 106,
     "metadata": {},
     "output_type": "execute_result"
    }
   ],
   "source": [
    "results_df"
   ]
  },
  {
   "cell_type": "code",
   "execution_count": 109,
   "id": "8d23ccad",
   "metadata": {},
   "outputs": [
    {
     "data": {
      "image/png": "[encoded data removed]",
      "text/plain": [
       "<Figure size 800x600 with 2 Axes>"
      ]
     },
     "metadata": {},
     "output_type": "display_data"
    }
   ],
   "source": [
    "conf_matrix = confusion_matrix(y_test, y_rf)\n",
    "\n",
    "# Plot confusion matrix\n",
    "plt.figure(figsize=(8, 6))\n",
    "sns.heatmap(conf_matrix, annot=True, fmt=\"d\", cmap=\"Blues\")\n",
    "plt.xlabel('Predicted')\n",
    "plt.ylabel('Actual')\n",
    "plt.title('Confusion Matrix')\n",
    "plt.show()"
   ]
  },
  {
   "cell_type": "code",
   "execution_count": null,
   "id": "af7daf42",
   "metadata": {},
   "outputs": [],
   "source": []
  }
 ],
 "metadata": {
  "kernelspec": {
   "display_name": "Python 3 (ipykernel)",
   "language": "python",
   "name": "python3"
  },
  "language_info": {
   "codemirror_mode": {
    "name": "ipython",
    "version": 3
   },
   "file_extension": ".py",
   "mimetype": "text/x-python",
   "name": "python",
   "nbconvert_exporter": "python",
   "pygments_lexer": "ipython3",
   "version": "3.11.5"
  }
 },
 "nbformat": 4,
 "nbformat_minor": 5
}
